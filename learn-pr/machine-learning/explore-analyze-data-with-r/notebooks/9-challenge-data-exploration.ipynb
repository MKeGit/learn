{
  "cells": [
    {
      "cell_type": "markdown",
      "metadata": {},
      "source": [
        "## Challenge: Explore real-world flight data\n",
        "\n",
        "As a data scientist, a significant part of your role is to explore, analyze, and visualize data. In this challenge, you'll explore a real-world dataset that contains flight data from the US Department of Transportation.\n",
        "\n",
        "Let's start by loading the packages you'll need for this exploration.\n"
      ]
    },
    {
      "cell_type": "code",
      "execution_count": null,
      "metadata": {
        "vscode": {
          "languageId": "r"
        }
      },
      "outputs": [],
      "source": [
        "# Load the required packages\n",
        "suppressPackageStartupMessages({\n",
        "  library(tidyverse)\n",
        "  library(summarytools)\n",
        "  library(glue)\n",
        "  library(patchwork)\n",
        "  })\n",
        "\n",
        "# Initialize github repo path \n",
        "# containing test files used to check your answers\n",
        "testsFolderPath <- \"https://raw.githubusercontent.com/MicrosoftDocs/mslearn-machine-learning-with-r/main/tests/explore-analyze-data-with-r/\"\n",
        "\n"
      ]
    },
    {
      "cell_type": "markdown",
      "metadata": {},
      "source": [
        "Now, you can import the data into R and start doing some data science on it!\n",
        "\n"
      ]
    },
    {
      "cell_type": "code",
      "execution_count": null,
      "metadata": {
        "vscode": {
          "languageId": "r"
        }
      },
      "outputs": [],
      "source": [
        "# Load and view the data\n",
        "df_flights <- read_csv(\"https://raw.githubusercontent.com/MicrosoftDocs/ml-basics/master/challenges/data/flights.csv\", show_col_types = FALSE)\n",
        "\n",
        "df_flights %>%\n",
        "  slice_head(n = 7)\n"
      ]
    },
    {
      "cell_type": "markdown",
      "metadata": {},
      "source": [
        "The dataset contains observations of US domestic flights in 2013, and consists of the following fields:\n",
        "\n",
        "- **Year**: The year of the flight (all records are from 2013).\n",
        "- **Month**: The month of the flight.\n",
        "- **DayofMonth**: The day of the month on which the flight departed.\n",
        "- **DayOfWeek**: The day of the week on which the flight departed, from 1 (Monday) to 7 (Sunday).\n",
        "- **Carrier**: The two-letter abbreviation for the airline.\n",
        "- **OriginAirportID**: A unique numeric identifier for the departure aiport.\n",
        "- **OriginAirportName**: The full name of the departure airport.\n",
        "- **OriginCity**: The departure airport city.\n",
        "- **OriginState**: The departure airport state.\n",
        "- **DestAirportID**: A unique numeric identifier for the destination aiport.\n",
        "- **DestAirportName**: The full name of the destination airport.\n",
        "- **DestCity**: The destination airport city.\n",
        "- **DestState**: The destination airport state.\n",
        "- **CRSDepTime**: The scheduled departure time.\n",
        "- **DepDelay**: The number of minutes the departure was delayed (flights that left ahead of schedule have a negative value).\n",
        "- **DelDelay15**: A binary indicator that the departure was delayed by more than 15 minutes (and is therefore considered \"late\").\n",
        "- **CRSArrTime**: The scheduled arrival time.\n",
        "- **ArrDelay**: The number of minutes the arrival was delayed (flights that arrived ahead of schedule have a negative value).\n",
        "- **ArrDelay15**: A binary indicator that the arrival was delayed by more than 15 minutes (and is therefore considered \"late\").\n",
        "- **Cancelled**: A binary indicator that the flight was canceled.\n",
        "\n",
        "Your challenge is to explore the flight data to analyze factors that might cause delays in a flight's departure or arrival.\n",
        "\n",
        "1.  Start by cleaning the data.  \n",
        "\n",
        "    - Identify any null or missing data, and impute appropriate replacement values.  \n",
        "\n",
        "    - Identify and eliminate any outliers in the **DepDelay** and **ArrDelay** columns.  \n",
        "\n",
        "2.  Explore the cleaned data.  \n",
        "\n",
        "    - View summary statistics for the numeric fields in the dataset.\n",
        "    - Determine the distribution of the **DepDelay** and **ArrDelay** columns.\n",
        "    - Use statistics, aggregate functions, and visualizations to answer the following questions:  \n",
        "\n",
        "        - *What are the average (mean) departure and arrival delays?*\n",
        "        - *How do the carriers compare in terms of arrival delay performance?*\n",
        "        - *Is there a noticeable difference in arrival delays for different days of the week?*\n",
        "        - *Which departure airport has the highest average departure delay?*\n",
        "        - *Do late departures tend to result in longer arrival delays than on-time departures?*\n",
        "        - *Which route (from departure airport to destination airport) has the most late arrivals?*\n",
        "        - *Which route has the highest average arrival delay?*\n",
        "\n",
        "Sometimes, when there are a lot of columns in the data, it can be difficult at first to get a good grasp of it by using `slice_head`.\n",
        "\n",
        "By using `glimpse`, you can view a transposed version of the data frame, where columns are displayed vertically and the data is displayed horizontally. This makes it possible to easily view every column in a data frame. At the same time, `glimpse` shows the dimension of the data frame and underlying data types of the columns.\n"
      ]
    },
    {
      "cell_type": "code",
      "execution_count": null,
      "metadata": {
        "vscode": {
          "languageId": "r"
        }
      },
      "outputs": [],
      "source": [
        "# Get a glimpse of your data\n",
        "df_flights %>%\n",
        "  glimpse()\n"
      ]
    },
    {
      "cell_type": "markdown",
      "metadata": {},
      "source": [
        "## Clean the data for missing values\n",
        "\n",
        "After you've imported your data, it's always a good idea to clean it. The importance of this task is often underestimated, yet it's a fundamental step that's necessary for successful data analysis.\n",
        "\n",
        "Let's find how many null values there are for each column.\n"
      ]
    },
    {
      "cell_type": "code",
      "execution_count": null,
      "metadata": {
        "vscode": {
          "languageId": "r"
        }
      },
      "outputs": [],
      "source": [
        "# Find how many null values there are for each column.\n",
        "colSums(is.na(df_flights))\n"
      ]
    },
    {
      "cell_type": "markdown",
      "metadata": {},
      "source": [
        "It looks like there are some NA (missing values) `late departure` indicators in the **DepDel15** column. A departure is considered late if the delay is 15 minutes or more, so let's see the delays for the ones with an NA late indicator:\n",
        "\n",
        "**Step 1**\n",
        "\n",
        "Starting with `df_flights`, select columns `DepDelay` and `DepDel15`, and then filter them to obtain rows where the value of `DepDel15` is `NA`. Assign the results in a variable named `flights_depdel`.\n",
        "\n",
        "Fill in the placeholder `....` with the right code."
      ]
    },
    {
      "cell_type": "code",
      "execution_count": null,
      "metadata": {
        "vscode": {
          "languageId": "r"
        }
      },
      "outputs": [],
      "source": [
        "# Select columns DepDelay and DepDel15\n",
        "# and then filter the tibble to obtain\n",
        "# observations where there is a missing value of DepDel15\n",
        "\n",
        "flights_depdel <- df_flights %>%\n",
        "  select(...., ....) %>%\n",
        "  filter(is.na(....))\n"
      ]
    },
    {
      "cell_type": "markdown",
      "metadata": {},
      "source": [
        "Test your answer:\n",
        "\n"
      ]
    },
    {
      "cell_type": "code",
      "execution_count": null,
      "metadata": {
        "vscode": {
          "languageId": "r"
        }
      },
      "outputs": [],
      "source": [
        "testFilePath <- paste(testsFolderPath, \"Question%201.R\", sep=\"\", collapse=NULL)\n",
        ". <- ottr::check(testFilePath)\n"
      ]
    },
    {
      "cell_type": "markdown",
      "metadata": {},
      "source": [
        "Good job! Now, let's `glimpse` at `flights_depdel`.\n",
        "\n"
      ]
    },
    {
      "cell_type": "code",
      "execution_count": null,
      "metadata": {
        "vscode": {
          "languageId": "r"
        }
      },
      "outputs": [],
      "source": [
        "flights_depdel %>%\n",
        "  glimpse()\n"
      ]
    },
    {
      "cell_type": "markdown",
      "metadata": {},
      "source": [
        "From the first few observations, it looks like the flights in `DepDel15` (a binary indicator that the departure was delayed by more than 15 minutes) all have a corresponding delay of 0 in `DepDelay`(the number of minute the departure was delayed). Let's check by looking at the summary statistics for the `DepDelay` records:\n",
        "\n"
      ]
    },
    {
      "cell_type": "code",
      "execution_count": null,
      "metadata": {
        "vscode": {
          "languageId": "r"
        }
      },
      "outputs": [],
      "source": [
        "# Get summary statistics using summary function\n",
        "df_flights %>%\n",
        "  filter(rowSums(is.na(.)) > 0) %>%\n",
        "  select(DepDelay) %>%\n",
        "  summary()\n"
      ]
    },
    {
      "cell_type": "markdown",
      "metadata": {},
      "source": [
        "The min, max, and mean are all 0, so it seems that none of these were actually *late* departures.\n",
        "\n",
        "**Step 2**\n",
        "\n",
        "Starting with `df_flights`, replace the missing values in the **DepDel15** column with a `0`. Assign this to a variable named `df_flights`.\n",
        "\n",
        "Fill in the placeholder `....` with the right code."
      ]
    },
    {
      "cell_type": "code",
      "execution_count": null,
      "metadata": {
        "vscode": {
          "languageId": "r"
        }
      },
      "outputs": [],
      "source": [
        "# Replace missing values in DepDel15 with 0\n",
        "df_flights <- df_flights %>%\n",
        "  mutate(DepDel15 = ....)\n"
      ]
    },
    {
      "cell_type": "markdown",
      "metadata": {},
      "source": [
        "Test your answer:\n",
        "\n"
      ]
    },
    {
      "cell_type": "code",
      "execution_count": null,
      "metadata": {
        "vscode": {
          "languageId": "r"
        }
      },
      "outputs": [],
      "source": [
        "testFilePath <- paste(testsFolderPath, \"Question%202.R\", sep=\"\", collapse=NULL)\n",
        ". <- ottr::check(testFilePath)"
      ]
    },
    {
      "cell_type": "markdown",
      "metadata": {},
      "source": [
        "Good job! There are no missing values now. Let's take this a little further.\n",
        "\n",
        "### Clean the outliers\n",
        "\n",
        "An outlier is a data point that differs significantly from other observations. Let's create a function that shows the distribution and summary statistics for a specified column.\n"
      ]
    },
    {
      "cell_type": "code",
      "execution_count": null,
      "metadata": {
        "vscode": {
          "languageId": "r"
        }
      },
      "outputs": [],
      "source": [
        "# Function to show summary stats and distribution for a column\n",
        "show_distribution <- function(var_data, binwidth) {\n",
        "\n",
        "  # Get summary statistics by first extracting values from the column\n",
        "  min_val <- min(pull(var_data))\n",
        "  max_val <- max(pull(var_data))\n",
        "  mean_val <- mean(pull(var_data))\n",
        "  med_val <- median(pull(var_data))\n",
        "  mod_val <- statip::mfv(pull(var_data))\n",
        "\n",
        "  # Print the stats\n",
        "  stats <- glue::glue(\n",
        "  \"Minimum: {format(round(min_val, 2), nsmall = 2)}\n",
        "   Mean: {format(round(mean_val, 2), nsmall = 2)}\n",
        "   Median: {format(round(med_val, 2), nsmall = 2)}\n",
        "   Mode: {format(round(mod_val, 2), nsmall = 2)}\n",
        "   Maximum: {format(round(max_val, 2), nsmall = 2)}\"\n",
        "  )\n",
        "\n",
        "  theme_set(theme_light())\n",
        "  # Plot the histogram\n",
        "  hist_gram <- ggplot(var_data) +\n",
        "  geom_histogram(aes(x = pull(var_data)), binwidth = binwidth,\n",
        "                 fill = \"midnightblue\", alpha = 0.7, boundary = 0.4) +\n",
        "\n",
        "  # Add lines for the statistics\n",
        "  geom_vline(xintercept = min_val, color = \"gray33\",\n",
        " linetype = \"dashed\", size = 1.3) +\n",
        "  geom_vline(xintercept = mean_val, color = \"cyan\",\n",
        " linetype = \"dashed\", size = 1.3) +\n",
        "  geom_vline(xintercept = med_val, color = \"red\",\n",
        " linetype = \"dashed\", size = 1.3) +\n",
        "  geom_vline(xintercept = mod_val, color = \"yellow\",\n",
        " linetype = \"dashed\", size = 1.3) +\n",
        "  geom_vline(xintercept = max_val, color = \"gray33\",\n",
        " linetype = \"dashed\", size = 1.3) +\n",
        "\n",
        "  # Add titles and labels\n",
        "  ggtitle(\"Data Distribution\") +\n",
        "  xlab(\"\") +\n",
        "  ylab(\"Frequency\") +\n",
        "  theme(plot.title = element_text(hjust = 0.5))\n",
        "\n",
        "  # Plot the box plot\n",
        "  bx_plt <- ggplot(data = var_data) +\n",
        "  geom_boxplot(mapping = aes(x = pull(var_data), y = 1),\n",
        "               fill = \"#E69F00\", color = \"gray23\", alpha = 0.7) +\n",
        "\n",
        "    # Add titles and labels\n",
        "  xlab(\"Value\") +\n",
        "  ylab(\"\") +\n",
        "  theme(plot.title = element_text(hjust = 0.5))\n",
        "\n",
        "\n",
        "  # To return multiple outputs, use a `list`\n",
        "  return(\n",
        "\n",
        "    list(stats,\n",
        "         hist_gram / bx_plt)) # End of returned outputs\n",
        "\n",
        "} # End of function\n"
      ]
    },
    {
      "cell_type": "markdown",
      "metadata": {},
      "source": [
        "**Step 3** \n",
        "\n",
        "Starting with the `df_flights` data, keep only the **DepDelay** column. Assign this to a variable named `df_col`.\n",
        "\n",
        "After you have this figured out, call the function `show_distribution` with the argument names and corresponding values `var_data = df_col` and `binwidth = 100`.\n",
        "\n",
        "From the function output, what's the distribution of **DepDelay** (the number of minutes the departure was delayed)?\n",
        "\n",
        "Fill in the placeholder `....` with the right code."
      ]
    },
    {
      "cell_type": "code",
      "execution_count": null,
      "metadata": {
        "vscode": {
          "languageId": "r"
        }
      },
      "outputs": [],
      "source": [
        "# Select DepDelay column\n",
        "df_col <- df_flights %>%\n",
        "  ....\n",
        "\n",
        "# Call the function show_distribution\n",
        "show_distribution(var_data = df_col, binwidth = 100)\n"
      ]
    },
    {
      "cell_type": "markdown",
      "metadata": {},
      "source": [
        "Test your answer:\n",
        "\n"
      ]
    },
    {
      "cell_type": "code",
      "execution_count": null,
      "metadata": {
        "vscode": {
          "languageId": "r"
        }
      },
      "outputs": [],
      "source": [
        "testFilePath <- paste(testsFolderPath, \"Question%203.R\", sep=\"\", collapse=NULL)\n",
        ". <- ottr::check(testFilePath)"
      ]
    },
    {
      "cell_type": "markdown",
      "metadata": {},
      "source": [
        "Now, let's investigate the distribution of **ArrDelay** (the number of minutes arrival was delayed).\n",
        "\n",
        "**Step 4** \n",
        "\n",
        "Starting with the `df_flights` data, keep only the **ArrDelay** column. Assign this to a variable named `df_col`.\n",
        "\n",
        "After you have this figured out, call the function `show_distribution` with the argument names and corresponding values `var_data = df_col` and `binwidth = 100` (value of the width of each bin along the x-axis).\n",
        "\n",
        "From the function output, what's the distribution of **ArrDelay**?\n",
        "\n",
        "Fill in the placeholder `....` with the right code."
      ]
    },
    {
      "cell_type": "code",
      "execution_count": null,
      "metadata": {
        "vscode": {
          "languageId": "r"
        }
      },
      "outputs": [],
      "source": [
        "# Select DepDelay column\n",
        "df_col <- df_flights %>%\n",
        "  ....\n",
        "\n",
        "# Call the function show_distribution\n",
        "show_distribution(var_data = df_col, binwidth = 100)\n"
      ]
    },
    {
      "cell_type": "markdown",
      "metadata": {},
      "source": [
        "Test your answer:\n",
        "\n"
      ]
    },
    {
      "cell_type": "code",
      "execution_count": null,
      "metadata": {
        "vscode": {
          "languageId": "r"
        }
      },
      "outputs": [],
      "source": [
        "testFilePath <- paste(testsFolderPath, \"Question%204.R\", sep=\"\", collapse=NULL)\n",
        ". <- ottr::check(testFilePath)"
      ]
    },
    {
      "cell_type": "markdown",
      "metadata": {},
      "source": [
        "From both outputs, there are outliers at the lower and upper ends of both variables. Let's trim the data so that you include only rows where the values for these fields are within the 1st and 90th percentiles. Let's begin with the **ArrDelay** observation.\n",
        "\n"
      ]
    },
    {
      "cell_type": "code",
      "execution_count": null,
      "metadata": {
        "vscode": {
          "languageId": "r"
        }
      },
      "outputs": [],
      "source": [
        "# Trim outliers for ArrDelay based on 1st and 90th percentiles\n",
        "# Produce quantiles corresponding to 1% and 90%\n",
        "arrdelay_01pcntile <- df_flights %>%\n",
        "  pull(ArrDelay) %>%\n",
        "  quantile(probs = 1 / 100, names = FALSE)\n",
        "\n",
        "arrdelay_90pcntile <- df_flights %>%\n",
        "  pull(ArrDelay) %>%\n",
        "  quantile(probs = 90 / 100, names = FALSE)\n",
        "\n",
        "# Print 1st and 90th quantiles respectively\n",
        "cat(arrdelay_01pcntile, \"\\n\", arrdelay_90pcntile)\n"
      ]
    },
    {
      "cell_type": "markdown",
      "metadata": {},
      "source": [
        "Now that you have quantiles corresponding to 1% and 90%, let's filter the `df_flights` data to include only rows whose arrival delay falls within this range.\n",
        "\n",
        "**Step 5** \n",
        "\n",
        "Starting with the `df_flights` data, filter to include only rows whose **ArrDelay** falls within the 1st and 90th quantiles. Assign this to a variable named `df_flights`.\n",
        "\n",
        "Fill in the placeholder `....` with the right code."
      ]
    },
    {
      "cell_type": "code",
      "execution_count": null,
      "metadata": {
        "vscode": {
          "languageId": "r"
        }
      },
      "outputs": [],
      "source": [
        "# Filter data to remove outliers\n",
        "df_flights <- df_flights %>%\n",
        "  filter(ArrDelay > ...., ....)\n"
      ]
    },
    {
      "cell_type": "markdown",
      "metadata": {},
      "source": [
        "Test your answer:\n",
        "\n"
      ]
    },
    {
      "cell_type": "code",
      "execution_count": null,
      "metadata": {
        "vscode": {
          "languageId": "r"
        }
      },
      "outputs": [],
      "source": [
        "testFilePath <- paste(testsFolderPath, \"Question%205.R\", sep=\"\", collapse=NULL)\n",
        ". <- ottr::check(testFilePath)\n"
      ]
    },
    {
      "cell_type": "markdown",
      "metadata": {},
      "source": [
        "Now, let's do the same for the **DepDelay** column.\n",
        "\n",
        "**Step 6** \n",
        "\n",
        "Starting with the `df_flights` data, obtain quantiles that correspond to 1% and 90%. Assign these values to the variables named `depdelay_01pcntile` and `depdelay_90pcntile`, respectively.\n",
        "\n",
        "Fill in the placeholder `....` with the right code."
      ]
    },
    {
      "cell_type": "code",
      "execution_count": null,
      "metadata": {
        "vscode": {
          "languageId": "r"
        }
      },
      "outputs": [],
      "source": [
        "# Trim outliers for DepDelay based on 1% and 90% percentiles\n",
        "# Produce quantiles corresponding to 1% and 90%\n",
        "depdelay_01pcntile <- df_flights %>%\n",
        "  .... %>%\n",
        "  ....\n",
        "\n",
        "depdelay_90pcntile <- df_flights %>%\n",
        "  .... %>%\n",
        "  ....\n",
        "\n",
        "# Print 1st and 90th quantiles respectively\n",
        "cat(depdelay_01pcntile, \"\\n\", depdelay_90pcntile)\n"
      ]
    },
    {
      "cell_type": "markdown",
      "metadata": {},
      "source": [
        "Test your answer:\n",
        "\n"
      ]
    },
    {
      "cell_type": "code",
      "execution_count": null,
      "metadata": {
        "vscode": {
          "languageId": "r"
        }
      },
      "outputs": [],
      "source": [
        "testFilePath <- paste(testsFolderPath, \"Question%206.R\", sep=\"\", collapse=NULL)\n",
        ". <- ottr::check(testFilePath)"
      ]
    },
    {
      "cell_type": "markdown",
      "metadata": {},
      "source": [
        "Good job!\n",
        "\n",
        "Now that you have quantiles corresponding to 1% and 90%, let's filter the `df_flights` data to include only rows whose departure delay falls within this range.\n",
        "\n",
        "**Step 7** \n",
        "\n",
        "Starting with the `df_flights` data, filter to only include rows whose **DepDelay** falls within 1st and 90th quantiles. Assign this to a variable name `df_flights`.\n",
        "\n",
        "Fill in the placeholder `....` with the right code."
      ]
    },
    {
      "cell_type": "code",
      "execution_count": null,
      "metadata": {
        "vscode": {
          "languageId": "r"
        }
      },
      "outputs": [],
      "source": [
        "# Filter data to remove outliers\n",
        "df_flights <- df_flights %>%\n",
        "  ....\n"
      ]
    },
    {
      "cell_type": "markdown",
      "metadata": {},
      "source": [
        "Test your answer:\n",
        "\n"
      ]
    },
    {
      "cell_type": "code",
      "execution_count": null,
      "metadata": {
        "vscode": {
          "languageId": "r"
        }
      },
      "outputs": [],
      "source": [
        "testFilePath <- paste(testsFolderPath, \"Question%207.R\", sep=\"\", collapse=NULL)\n",
        ". <- ottr::check(testFilePath)"
      ]
    },
    {
      "cell_type": "markdown",
      "metadata": {},
      "source": [
        "You rock!\n",
        "\n",
        "Now, you can check the distribution of the two variables with outliers removed.\n"
      ]
    },
    {
      "cell_type": "code",
      "execution_count": null,
      "metadata": {
        "vscode": {
          "languageId": "r"
        }
      },
      "outputs": [],
      "source": [
        "# Distribution of DepDelay\n",
        "show_distribution(var_data = select(df_flights, DepDelay), binwidth = 2)\n"
      ]
    },
    {
      "cell_type": "code",
      "execution_count": null,
      "metadata": {
        "vscode": {
          "languageId": "r"
        }
      },
      "outputs": [],
      "source": [
        "# Distribution of ArrDelay\n",
        "show_distribution(var_data = select(df_flights, ArrDelay), binwidth = 2)\n"
      ]
    },
    {
      "cell_type": "markdown",
      "metadata": {},
      "source": [
        "Much better!\n",
        "\n",
        "Now that the data is all cleaned up, you can begin doing some exploratory analysis.\n",
        "\n",
        "## Explore the data\n",
        "\n",
        "Let's start with an overall view of the summary statistics for the numeric columns.\n"
      ]
    },
    {
      "cell_type": "code",
      "execution_count": null,
      "metadata": {
        "vscode": {
          "languageId": "r"
        }
      },
      "outputs": [],
      "source": [
        "# Obtain common summary statistics using summarytools package\n",
        "df_flights %>%\n",
        "  descr(stats = \"common\")\n"
      ]
    },
    {
      "cell_type": "markdown",
      "metadata": {},
      "source": [
        "### What are the mean departure and arrival delays?\n",
        "\n",
        "**Step 8** \n",
        "\n",
        "Starting with the `df_flights` data, use `across()` within `summarize()` to find the mean across the **DepDelay** and **ArrDelay** columns. Assign this to the variable named `df_delays`. What are the mean delays?\n",
        "\n",
        "Fill in the placeholder `....` with the right code."
      ]
    },
    {
      "cell_type": "code",
      "execution_count": null,
      "metadata": {
        "vscode": {
          "languageId": "r"
        }
      },
      "outputs": [],
      "source": [
        "# Summarize the departure and arrival delays by finding the mean\n",
        "df_delays <- df_flights %>%\n",
        "  summarise(across(....))\n",
        "\n",
        "df_delays\n"
      ]
    },
    {
      "cell_type": "markdown",
      "metadata": {},
      "source": [
        "Test your answer:\n",
        "\n"
      ]
    },
    {
      "cell_type": "code",
      "execution_count": null,
      "metadata": {
        "vscode": {
          "languageId": "r"
        }
      },
      "outputs": [],
      "source": [
        "testFilePath <- paste(testsFolderPath, \"Question%208.R\", sep=\"\", collapse=NULL)\n",
        ". <- ottr::check(testFilePath)"
      ]
    },
    {
      "cell_type": "markdown",
      "metadata": {},
      "source": [
        "### How do the carriers compare in terms of arrival delay performance?\n",
        "\n",
        "A box plot can be a good way to graphically depict the distribution of groups of numerical data through their quantiles. The `geom` that takes care of box plots is `geom_boxplot`.\n"
      ]
    },
    {
      "cell_type": "code",
      "execution_count": null,
      "metadata": {
        "vscode": {
          "languageId": "r"
        }
      },
      "outputs": [],
      "source": [
        "# Compare arrival delay across different carriers\n",
        "df_flights %>%\n",
        "  ggplot() +\n",
        "  geom_boxplot(mapping = aes(x = Carrier, y = ArrDelay))\n"
      ]
    },
    {
      "cell_type": "markdown",
      "metadata": {},
      "source": [
        "### How do the carriers compare in terms of departure delay performance?\n",
        "\n",
        "Let's do the same for the departure delay performance.\n",
        "\n",
        "You can also try to rearrange the `Carrier` levels in ascending order of the delay time and sprinkle some color to the plots, too.\n"
      ]
    },
    {
      "cell_type": "code",
      "execution_count": null,
      "metadata": {
        "vscode": {
          "languageId": "r"
        }
      },
      "outputs": [],
      "source": [
        "df_flights %>%\n",
        "  mutate(Carrier = fct_reorder(Carrier, DepDelay)) %>%\n",
        "  ggplot() +\n",
        "  geom_boxplot(mapping = aes(x = Carrier, y = DepDelay, color = Carrier),\n",
        "  show.legend = FALSE)\n"
      ]
    },
    {
      "cell_type": "markdown",
      "metadata": {},
      "source": [
        "Alternatively, to create the preceding plots, you can use `purr::map()` to apply a function to each column. See `?map` for more details.\n",
        "\n"
      ]
    },
    {
      "cell_type": "code",
      "execution_count": null,
      "metadata": {
        "vscode": {
          "languageId": "r"
        }
      },
      "outputs": [],
      "source": [
        "map(df_flights %>% select(ArrDelay, DepDelay), ~ ggplot(df_flights) +\n",
        "  geom_boxplot(mapping = aes(x = Carrier, y = .x)) + ylab(\"\"))\n"
      ]
    },
    {
      "cell_type": "markdown",
      "metadata": {},
      "source": [
        "### Are some days of the week more prone to arrival delays than others?\n",
        "\n",
        "Again, let's make use of a box plot to visually inspect the distribution of arrival delays according to day of the week. To successfully accomplish this, you first have to encode days of the week as `categorical` variables (that is, `factors`).\n"
      ]
    },
    {
      "cell_type": "code",
      "execution_count": null,
      "metadata": {
        "vscode": {
          "languageId": "r"
        }
      },
      "outputs": [],
      "source": [
        "# Encode day of the week as a categorical and make boxplots\n",
        "df_flights %>%\n",
        "  mutate(DayOfWeek = factor(DayOfWeek)) %>%\n",
        "  ggplot() +\n",
        "  geom_boxplot(mapping = aes(x = DayOfWeek, y = ArrDelay),\n",
        "  show.legend = FALSE)\n"
      ]
    },
    {
      "cell_type": "markdown",
      "metadata": {},
      "source": [
        "### Are some days of the week more prone to departure delays than others?\n",
        "\n",
        "Now, over to you.\n",
        "\n",
        "**Step 9** \n",
        "\n",
        "Let's investigate whether some days of the week (x-axis) are more prone to departure delays (y-axis) than others. Start by encoding the day of the week as a categorical variable.\n",
        "\n",
        "Fill in the placeholder `....` with the right code."
      ]
    },
    {
      "cell_type": "code",
      "execution_count": null,
      "metadata": {
        "vscode": {
          "languageId": "r"
        }
      },
      "outputs": [],
      "source": [
        "# Encode day of the week as a categorical variable\n",
        "df_flights <- df_flights %>%\n",
        "  mutate(....)\n",
        "\n",
        "# Make a box plot of DayOfWeek and DepDelay\n",
        "dep_delay_plot <- df_flights %>%\n",
        "  ggplot() +\n",
        "  geom_boxplot(mapping = aes(x = ...., y = ...., color = DayOfWeek),\n",
        "  show.legend = FALSE) +\n",
        "  scale_color_brewer(palette = \"Dark2\")\n",
        "\n",
        "dep_delay_plot\n"
      ]
    },
    {
      "cell_type": "markdown",
      "metadata": {},
      "source": [
        "What can you make out of this?\n",
        "Test your answer:\n",
        "\n"
      ]
    },
    {
      "cell_type": "code",
      "execution_count": null,
      "metadata": {
        "vscode": {
          "languageId": "r"
        }
      },
      "outputs": [],
      "source": [
        "testFilePath <- paste(testsFolderPath, \"Question%209.R\", sep=\"\", collapse=NULL)\n",
        ". <- ottr::check(testFilePath)"
      ]
    },
    {
      "cell_type": "markdown",
      "metadata": {},
      "source": [
        "Great progress!\n",
        "\n",
        "### Which departure airport has the highest average departure delay?\n",
        "\n",
        "To answer this question, you have to group the data by `OriginAirportName`, summarize the observations by the mean of their departure delay `DepDelay`, and then arrange them in descending order of the mean departure delays.\n",
        "\n",
        "First, put this into code.\n"
      ]
    },
    {
      "cell_type": "code",
      "execution_count": null,
      "metadata": {
        "vscode": {
          "languageId": "r"
        }
      },
      "outputs": [],
      "source": [
        "# Use group_by %>% summarize to find airports with highest avg DepDelay\n",
        "mean_departure_delays <- df_flights %>%\n",
        "  group_by(OriginAirportName) %>%\n",
        "  summarize(mean_dep_delay_time = mean(DepDelay)) %>%\n",
        "  arrange(desc(mean_dep_delay_time))\n",
        "\n",
        "# Print the first 7 rows\n",
        "mean_departure_delays %>%\n",
        "  slice_head(n = 7)\n"
      ]
    },
    {
      "cell_type": "markdown",
      "metadata": {},
      "source": [
        "Fantastic!\n",
        "\n",
        "Now represent this visually by using bar plots.\n"
      ]
    },
    {
      "cell_type": "code",
      "execution_count": null,
      "metadata": {
        "vscode": {
          "languageId": "r"
        }
      },
      "outputs": [],
      "source": [
        "mean_departure_delays %>%\n",
        "  # Sort factor levels in descending order of delay time\n",
        "  mutate(OriginAirportName = fct_reorder(OriginAirportName,\n",
        " desc(mean_dep_delay_time))) %>%\n",
        "  ggplot() +\n",
        "  geom_col(mapping = aes(x = OriginAirportName, y = mean_dep_delay_time),\n",
        " fill = \"midnightblue\", alpha = 0.7) +\n",
        "  theme(\n",
        "    # Rotate X markers so we can read them\n",
        "    axis.text.x = element_text(angle = 90)\n",
        "  )\n"
      ]
    },
    {
      "cell_type": "markdown",
      "metadata": {},
      "source": [
        "Could you try to guess why Chicago Airport has the greatest departure delay time or why Long Beach has the least?\n",
        "\n",
        "### Do late departures tend to result in longer arrival delays than on-time departures?\n",
        "\n",
        "**Step 10** \n",
        "\n",
        "Starting with the `df_flights` data, first encode the **DepDel15** column (a binary indicator that the departure was delayed by more than 15 minutes) as categorical.\n",
        "\n",
        "Use a box plot to investigate whether late departures (x-axis) tend to result in longer arrival delays (y-axis) than on-time departures. Map the fill aesthetic to the `DepDel15` variable.\n",
        "\n",
        "> **Tip**:\n",
        "> You can color a box plot by using either the `colour` aesthetic (as in previous exercises) or, more usefully, the `fill` aesthetic.\n",
        "\n",
        "Fill in the placeholder `....` with the right code."
      ]
    },
    {
      "cell_type": "code",
      "execution_count": null,
      "metadata": {
        "vscode": {
          "languageId": "r"
        }
      },
      "outputs": [],
      "source": [
        "# Encode DepDel15 as a categorical variable\n",
        "df_flights <- df_flights %>%\n",
        "  mutate(DepDel15 = factor(DepDel15))\n",
        "\n",
        "arr_delay_plot <- df_flights %>%\n",
        "  ggplot() +\n",
        "  geom_boxplot(mapping <- aes(x = ...., y = ...., fill = ....))\n",
        "\n",
        "arr_delay_plot\n"
      ]
    },
    {
      "cell_type": "markdown",
      "metadata": {},
      "source": [
        "Does this surprise you?\n",
        "Test your answer:\n",
        "\n"
      ]
    },
    {
      "cell_type": "code",
      "execution_count": null,
      "metadata": {
        "vscode": {
          "languageId": "r"
        }
      },
      "outputs": [],
      "source": [
        "testFilePath <- paste(testsFolderPath, \"Question%2010.R\", sep=\"\", collapse=NULL)\n",
        ". <- ottr::check(testFilePath)\n"
      ]
    },
    {
      "cell_type": "markdown",
      "metadata": {},
      "source": [
        "### Which route (from departure airport to destination airport) has the most late arrivals?\n",
        "\n",
        "Finally, let's investigate travel routes. Start by adding a **Route** column that indicates the departure and destination airports.\n"
      ]
    },
    {
      "cell_type": "code",
      "execution_count": null,
      "metadata": {
        "vscode": {
          "languageId": "r"
        }
      },
      "outputs": [],
      "source": [
        "# Add a Route column\n",
        "df_flights <- df_flights %>%\n",
        "  mutate(Route = paste(OriginAirportName, DestAirportName, sep = \">\"))\n"
      ]
    },
    {
      "cell_type": "markdown",
      "metadata": {},
      "source": [
        "Great! Now you can use `group_by()`, `summarize()`, and `arrange()` to find the routes with the most late arrivals.\n",
        "\n"
      ]
    },
    {
      "cell_type": "code",
      "execution_count": null,
      "metadata": {
        "vscode": {
          "languageId": "r"
        }
      },
      "outputs": [],
      "source": [
        "# Make grouped summaries to find the total delay\n",
        "# associated with a particular route\n",
        "df_flights %>%\n",
        "  group_by(Route) %>%\n",
        "  summarize(ArrDel15 = sum(ArrDel15)) %>%\n",
        "  arrange(desc(ArrDel15))\n"
      ]
    },
    {
      "cell_type": "markdown",
      "metadata": {},
      "source": [
        "### Which route has the highest average arrival delay time?\n",
        "\n",
        "Over to you!\n",
        "\n",
        "**Step 11** \n",
        "\n",
        "Starting with the `df_flights` data, group the observations by `Route`, and then create a summary tibble with a column name **ArrDelay**, which represents the mean arrival delay time. Arrange this in descending order.\n",
        "\n",
        "Assign your results to a variable named `df_route_arrdelay`.\n",
        "\n",
        "Fill in the placeholder `....` with the right code."
      ]
    },
    {
      "cell_type": "code",
      "execution_count": null,
      "metadata": {
        "vscode": {
          "languageId": "r"
        }
      },
      "outputs": [],
      "source": [
        "# Create grouped summaries of the arrival delay time\n",
        "df_route_arrdelay <- df_flights %>%\n",
        "  .... %>%\n",
        "  summarise(ArrDelay = ....) %>%\n",
        "  ....(desc(....))\n",
        "\n",
        "\n",
        "# Print the first 5 rows\n",
        "df_route_arrdelay %>%\n",
        "  slice_head(n = 5)\n"
      ]
    },
    {
      "cell_type": "markdown",
      "metadata": {},
      "source": [
        "Test your answer:\n",
        "\n"
      ]
    },
    {
      "cell_type": "code",
      "execution_count": null,
      "metadata": {
        "vscode": {
          "languageId": "r"
        }
      },
      "outputs": [],
      "source": [
        "testFilePath <- paste(testsFolderPath, \"Question%2011.R\", sep=\"\", collapse=NULL)\n",
        ". <- ottr::check(testFilePath)\n"
      ]
    },
    {
      "cell_type": "markdown",
      "metadata": {},
      "source": [
        "Congratulations on finishing the first challenge! We'll wrap it at that for now. Of course there are other ways to approach this challenge. Feel free to experiment and share your solutions with friends.\n",
        "\n",
        "See you in the next module, where we'll get started with machine learning.\n"
      ]
    }
  ],
  "metadata": {
    "anaconda-cloud": "",
    "kernelspec": {
      "display_name": "R",
      "language": "R",
      "name": "ir"
    },
    "language_info": {
      "codemirror_mode": "r",
      "file_extension": ".r",
      "mimetype": "text/x-r-source",
      "name": "R",
      "pygments_lexer": "r",
      "version": "4.1.2"
    }
  },
  "nbformat": 4,
  "nbformat_minor": 1
}
