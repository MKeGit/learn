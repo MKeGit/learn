{
  "cells": [
    {
      "cell_type": "markdown",
      "metadata": {},
      "source": [
        "**NOTE**\n",
        "\n",
        "- If the kernel doesn't autoselect when you run the code, choose *azureml_py38* from the dropdown menu.\n",
        "- You might get an error message that no GPU or CUDA-capable device was found. However, the code should still run successfully using CPU resources."
      ]
    },
    {
      "cell_type": "code",
      "execution_count": 10,
      "metadata": {},
      "outputs": [],
      "source": [
        "import os\n",
        "os.environ[\"CUDA_VISIBLE_DEVICES\"] = \"-1\"\n",
        "\n",
        "import tensorflow as tf"
      ]
    },
    {
      "cell_type": "markdown",
      "metadata": {},
      "source": [
        "Before you reimplement portions of the Keras code, you need to understand TensorFlow's basic concepts. In this notebook, we cover tensors and variables.\n",
        "\n",
        "A TensorFlow [Tensor](https://www.tensorflow.org/api_docs/python/tf/Tensor) is the data structure used to store the inputs and outputs of a deep learning model. A TensorFlow [Variable](https://www.tensorflow.org/api_docs/python/tf/Variable) is a special type of tensor that's used to store any model parameters that need to be learned during training. The key difference is that tensors are *immutable* and variables are *mutable*. They're both super important concepts to understand if you're going to be working with TensorFlow.\n",
        "\n",
        "Mathematically speaking, a tensor is just a generalization of vectors and matrices. A vector is a one-dimensional array of values, a matrix is a two-dimensional array of values, and a tensor is an array of values with any number of dimensions. A TensorFlow `Tensor`, much like NumPy's `ndarray`, provides a way to represent multidimensional data, but with added tricks, such as the ability to perform operations on a GPU and the ability to calculate derivatives.\n",
        "\n",
        "Suppose you want to represent this 3 &times; 2 matrix in TensorFlow:\n",
        "\n",
        "$$\n",
        "X = \n",
        "\\begin{bmatrix}\n",
        "  1 & 2 \\\\\n",
        "  3 & 4 \\\\\n",
        "  5 & 6\n",
        "\\end{bmatrix} \n",
        "$$\n",
        "\n",
        "Here's the code to create the corresponding tensor:"
      ]
    },
    {
      "cell_type": "code",
      "execution_count": 11,
      "metadata": {},
      "outputs": [],
      "source": [
        "X = tf.constant([[1, 2], [3, 4], [5, 6]])"
      ]
    },
    {
      "cell_type": "markdown",
      "metadata": {},
      "source": [
        "You can inspect the tensor's `shape` attribute to see how many dimensions it has and the size in each dimension. The `device` attribute tells us whether the tensor is stored on the CPU or GPU, and the `dtype` attribute indicates what kind of values it holds. You use the `type` function to check the type of the tensor itself."
      ]
    },
    {
      "cell_type": "code",
      "execution_count": null,
      "metadata": {},
      "outputs": [],
      "source": [
        "print(X.shape)\n",
        "print(X.device)\n",
        "print(X.dtype)\n",
        "print(type(X))"
      ]
    },
    {
      "cell_type": "markdown",
      "metadata": {},
      "source": [
        "If your machine is configured properly for TensorFlow to take advantage of a GPU, then TensorFlow automatically decides whether to store tensors and perform tensor math on the GPU or CPU in an optimal way, without any additional work on your part.\n",
        "\n",
        "If you've used NumPy ndarrays before, you might be happy to know that TensorFlow tensors can be indexed in a familiar way. You can slice a tensor to view a smaller portion of it:"
      ]
    },
    {
      "cell_type": "code",
      "execution_count": null,
      "metadata": {},
      "outputs": [],
      "source": [
        "X = X[0:2, 0:1]\n",
        "X"
      ]
    },
    {
      "cell_type": "markdown",
      "metadata": {},
      "source": [
        "You can also convert tensors to NumPy arrays by simply using the `numpy` method:"
      ]
    },
    {
      "cell_type": "code",
      "execution_count": null,
      "metadata": {},
      "outputs": [],
      "source": [
        "array = X.numpy()           \n",
        "array"
      ]
    },
    {
      "cell_type": "markdown",
      "metadata": {},
      "source": [
        "Variables can easily be initialized from tensors: "
      ]
    },
    {
      "cell_type": "code",
      "execution_count": null,
      "metadata": {},
      "outputs": [],
      "source": [
        "V = tf.Variable(X)\n",
        "V"
      ]
    },
    {
      "cell_type": "markdown",
      "metadata": {},
      "source": [
        "As we mentioned earlier, unlike a `Tensor`, a `Variable` is mutable. You can update the value of our variable using the `assign`, `assign_add`, and `assign_sub` methods:"
      ]
    },
    {
      "cell_type": "code",
      "execution_count": null,
      "metadata": {},
      "outputs": [],
      "source": [
        "Y = tf.constant([[5], [6]])\n",
        "V.assign(Y)\n",
        "V"
      ]
    },
    {
      "cell_type": "code",
      "execution_count": null,
      "metadata": {},
      "outputs": [],
      "source": [
        "V.assign_add([[1], [1]])"
      ]
    },
    {
      "cell_type": "code",
      "execution_count": null,
      "metadata": {},
      "outputs": [],
      "source": [
        "V.assign_sub([[2], [2]])"
      ]
    }
  ],
  "metadata": {
    "interpreter": {
      "hash": "a7d8d32a02de2fe32a77a4e581138922e011c09664b6c2991156e76c4176efab"
    },
    "kernelspec": {
      "display_name": "azureml_py38",
      "language": "python",
      "name": "conda-env-azureml_py38-py"
    },
    "language_info": {
      "codemirror_mode": {
        "name": "ipython",
        "version": 3
      },
      "file_extension": ".py",
      "mimetype": "text/x-python",
      "name": "python",
      "nbconvert_exporter": "python",
      "pygments_lexer": "ipython3",
      "version": "3.8.10"
    },
    "nteract": {
      "version": "nteract-front-end@1.0.0"
    }
  },
  "nbformat": 4,
  "nbformat_minor": 4
}
